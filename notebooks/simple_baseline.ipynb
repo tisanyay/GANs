{
 "cells": [
  {
   "cell_type": "code",
   "execution_count": null,
   "metadata": {},
   "outputs": [],
   "source": [
    "import os \n",
    "import tensorflow as tf\n",
    "import torch\n",
    "import torchvision\n",
    "import torch.nn as nn\n",
    "import torch.optim as optim\n",
    "import torch.nn.functional as F\n",
    "import torchvision.datasets as datasets\n",
    "import torchvision.transforms as transforms\n",
    "from torch.utils.data import DataLoader, random_split\n",
    "from torchvision.datasets import CIFAR10\n",
    "from torchmetrics.image.fid import FrechetInceptionDistance\n",
    "\n",
    "import matplotlib.pyplot as plt\n",
    "\n",
    "random_seed = 9292\n",
    "torch.manual_seed(random_seed)\n",
    "LATENT_DIM = 100\n",
    "BATCH_SIZE = 64\n",
    "NUM_EPOCHS = 500\n",
    "AVAIL_GPUS = min(1, torch.cuda.device_count())\n",
    "NUM_WORKERS = int(os.cpu_count() / 2)\n",
    "lr = 3e-4\n",
    "latent_dims = 100\n",
    "device = \"cuda\" if torch.cuda.is_available() else \"cpu\""
   ]
  },
  {
   "cell_type": "code",
   "execution_count": null,
   "metadata": {},
   "outputs": [],
   "source": [
    "data_dir = './data'\n",
    "\n",
    "transform = transforms.Compose([\n",
    "    transforms.ToTensor(),\n",
    "    transforms.Normalize((0.5, 0.5, 0.5), (0.5, 0.5, 0.5))\n",
    "])\n",
    "\n",
    "training = CIFAR10(data_dir, train=True, transform=transform, download=True)\n",
    "testing = CIFAR10(data_dir, train=False, transform=transform, download=True)\n",
    "\n",
    "train_dataloader = DataLoader(training, batch_size=BATCH_SIZE, num_workers=NUM_WORKERS)\n",
    "test_dataloader = DataLoader(testing, batch_size=BATCH_SIZE, num_workers=NUM_WORKERS)"
   ]
  },
  {
   "cell_type": "code",
   "execution_count": null,
   "metadata": {},
   "outputs": [],
   "source": [
    "from simple_baseline import SimpleAgent\n",
    "simple_agent = SimpleAgent(LATENT_DIM, BATCH_SIZE)"
   ]
  },
  {
   "cell_type": "code",
   "execution_count": null,
   "metadata": {},
   "outputs": [],
   "source": [
    "for epoch in range(NUM_EPOCHS):\n",
    "    for i, (real_imgs, _) in enumerate(train_dataloader):\n",
    "        real_imgs = real_imgs.float().cuda()\n",
    "        noise = torch.randn(LATENT_DIM*real_imgs.shape[0]).to(device)\n",
    "        fake_imgs = simple_agent.gen(noise.reshape(real_imgs.shape[0], LATENT_DIM))\n",
    "\n",
    "        disc_loss, real_acc, fake_acc = simple_agent.train_disc(fake_imgs, real_imgs)\n",
    "\n",
    "        gen_loss = simple_agent.train_gen(fake_imgs)\n",
    "\n",
    "        simple_agent.print_progress(len(train_dataloader), NUM_EPOCHS, epoch, i)\n",
    "\n",
    "        del disc_loss, gen_loss, real_acc, fake_acc, noise, fake_imgs\n",
    "\n",
    "    simple_agent.output_train_graphs('.')\n",
    "\n",
    "    print(f'disc loss: {simple_agent.disc_loss[-1]:5.2f}  gen loss: {simple_agent.gen_loss[-1]:5.2f}  real acc: {simple_agent.real_acc[-1]:5.2f}  fake_acc: {simple_agent.fake_acc[-1]:5.2f}')\n",
    "\n",
    "    if (epoch+1) % 50 == 0:\n",
    "        simple_agent.gen.eval()\n",
    "        simple_agent.disc.eval()\n",
    "\n",
    "        with torch.no_grad():\n",
    "            for i, (real_imgs, _) in enumerate(test_dataloader):\n",
    "                disc_loss, gen_loss, real_acc, fake_acc = simple_agent.test_gan(real_imgs)\n",
    "\n",
    "                progress = int(((i+1)/len(test_dataloader))*20)\n",
    "                print(f\"test [{'='*progress}{' '*(20-progress)}] {i+1}/{len(test_dataloader)}\", end='\\r', flush=True)\n",
    "                del disc_loss, gen_loss, real_acc, fake_acc\n",
    "\n",
    "            test_disc_loss, test_gen_loss, test_real_acc, test_fake_acc, fid_score = simple_agent.output_test_graphs('.')\n",
    "            simple_agent.output_imgs('.', test_disc_loss, test_gen_loss, fid_score, epoch+1)\n",
    "            \n",
    "            simple_agent.disc.train()\n",
    "            simple_agent.disc.train()\n",
    "\n",
    "            del test_disc_loss, test_gen_loss, test_real_acc, test_fake_acc, fid_score"
   ]
  }
 ],
 "metadata": {
  "kernelspec": {
   "display_name": "Python 3",
   "language": "python",
   "name": "python3"
  },
  "language_info": {
   "name": "python",
   "version": "3.9.13 (tags/v3.9.13:6de2ca5, May 17 2022, 16:36:42) [MSC v.1929 64 bit (AMD64)]"
  },
  "orig_nbformat": 4,
  "vscode": {
   "interpreter": {
    "hash": "f07cde9dbb177b152a57688f67b18487bd7574344579868b86e37fc91c0932c5"
   }
  }
 },
 "nbformat": 4,
 "nbformat_minor": 2
}
